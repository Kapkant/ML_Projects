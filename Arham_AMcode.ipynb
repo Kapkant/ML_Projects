{
 "cells": [
  {
   "attachments": {},
   "cell_type": "markdown",
   "metadata": {},
   "source": [
    "#Association Mining assignment \n",
    "#Arham Khan CS200 ML\n",
    "\n",
    "#Step 1: import packages"
   ]
  },
  {
   "cell_type": "code",
   "execution_count": null,
   "metadata": {},
   "outputs": [],
   "source": [
    "import numpy as np\n",
    "import pandas as pd\n",
    "dataset = pd.read_csv(\"/Users/khana/Downloads/Dataset.csv\",header = None)"
   ]
  },
  {
   "attachments": {},
   "cell_type": "markdown",
   "metadata": {},
   "source": [
    "Transactions:"
   ]
  },
  {
   "cell_type": "code",
   "execution_count": null,
   "metadata": {},
   "outputs": [],
   "source": [
    "transactions = []\n",
    "for i in range (0,25):\n",
    "transactions.append([str(dataset.values[i,j]) for j in range (0,5)])"
   ]
  },
  {
   "attachments": {},
   "cell_type": "markdown",
   "metadata": {},
   "source": [
    "Building model, 25% support and 70% confidence"
   ]
  },
  {
   "cell_type": "code",
   "execution_count": null,
   "metadata": {},
   "outputs": [],
   "source": [
    "from apriori_python import apriori\n",
    "freq_Items, rules = apriori (transactions, minSup=.249,minConf=.699)\n",
    "freq_Items, rules = apriori (transactions, minSup=.249,minConf=.699)"
   ]
  },
  {
   "cell_type": "code",
   "execution_count": null,
   "metadata": {},
   "outputs": [],
   "source": [
    "print(rules[0])"
   ]
  },
  {
   "attachments": {},
   "cell_type": "markdown",
   "metadata": {},
   "source": [
    "[{'Chocolate'}, {'Coffee'}, 0.7]\n",
    "Significance of each value in a rule is displayed. The items are chocolate and coffee, choclate = antecedent and coffee = consequent w/ .70 confidence rule\n",
    "Showing all items:"
   ]
  },
  {
   "cell_type": "code",
   "execution_count": null,
   "metadata": {},
   "outputs": [],
   "source": [
    "print(freq_Items)"
   ]
  },
  {
   "attachments": {},
   "cell_type": "markdown",
   "metadata": {},
   "source": [
    "{1: {frozenset({'nan'}), frozenset({'Coffee'}), frozenset({'Butter'}),\n",
    "frozenset({'Eggs'}), frozenset({'Chocolate'}), frozenset({'Bread'}),\n",
    "frozenset({'Bournvita'}), frozenset({'Cornflakes'})}, 2:\n",
    "{frozenset({'Bournvita', 'Butter'}), frozenset({'Chocolate', 'Coffee'}),\n",
    "frozenset({'Cornflakes', 'Bournvita'}), frozenset({'Bournvita', 'Bread'}),\n",
    "frozenset({'Eggs', 'Coffee'}), frozenset({'Eggs', 'Chocolate'}),\n",
    "frozenset({'Cornflakes', 'Butter'})}, 3: {frozenset({'Cornflakes', 'Bournvita',\n",
    "'Butter'}), frozenset({'Eggs', 'Chocolate', 'Coffee'})}}\n",
    "List of items in L1,L2, and L3 is now provided. Where it says 1: those are the items in L1, where\n",
    "it says 2: are the items in L2 and everything after 3: are in L3."
   ]
  }
 ],
 "metadata": {
  "language_info": {
   "name": "python"
  },
  "orig_nbformat": 4
 },
 "nbformat": 4,
 "nbformat_minor": 2
}
