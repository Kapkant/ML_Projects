{
 "cells": [
  {
   "cell_type": "code",
   "execution_count": 56,
   "id": "420dfcbc",
   "metadata": {
    "tags": []
   },
   "outputs": [],
   "source": [
    "#Importing libraries \n",
    "import pandas as pd\n",
    "import re\n",
    "import nltk\n",
    "from nltk.corpus import stopwords\n",
    "from nltk.stem.porter import PorterStemmer\n",
    "from sklearn.model_selection import train_test_split\n",
    "from sklearn.preprocessing import StandardScaler\n",
    "from sklearn.linear_model import LogisticRegression\n",
    "from sklearn.neighbors import KNeighborsClassifier\n",
    "from sklearn.svm import SVC\n",
    "from sklearn.naive_bayes import GaussianNB\n",
    "from sklearn.tree import DecisionTreeClassifier\n",
    "from sklearn.feature_extraction.text import CountVectorizer, TfidfVectorizer\n",
    "from sklearn.ensemble import RandomForestClassifier\n",
    "from sklearn.metrics import confusion_matrix, accuracy_score, precision_score, recall_score, f1_score\n"
   ]
  },
  {
   "cell_type": "code",
   "execution_count": 57,
   "id": "34bf1190",
   "metadata": {
    "tags": []
   },
   "outputs": [],
   "source": [
    "# Importing dataset\n",
    "dataset = pd.read_csv('Restaurant_Reviews.tsv', delimiter = '\\t', quoting = 3)\n",
    "x=dataset.iloc[0:1001,0].values  \n",
    "y=dataset.iloc[0:1001,1].values \n",
    "#creating list for storing review\n",
    "reviews = []  \n",
    "#creating list for storing all reviws in corpus\n",
    "corpus = [] \n"
   ]
  },
  {
   "cell_type": "code",
   "execution_count": 58,
   "id": "85ef36f2",
   "metadata": {
    "tags": []
   },
   "outputs": [],
   "source": [
    "# Preprocessing\n",
    "\n",
    "#for loop for processing all reviews\n",
    "for character in range(0, len(x)): \n",
    "    # removing special characters and numbers\n",
    "    #if word has no alphabets, replaced by blank space.\n",
    "    #all characters except A-Z         \n",
    "    review = re.sub('[^a-zA-Z]', ' ', str(x[character])) \n",
    "    # sub method returns the string obtained by replacing the leftmost non-overlapping occurrences of the pattern \n",
    "    #in string by the replacement mentioned as second parameter\n",
    "    # converting text to lower case \n",
    "    review = review.lower()\n",
    "    #split the sentences into words by split it over blank space \n",
    "    review = review.split()\n",
    "    #taking root words and removing stop words \n",
    "    ps = PorterStemmer()\n",
    "    review = [ps.stem(word) for word in review if not word in set(stopwords.words('english'))]\n",
    "    review = ' '.join(review)  #processed words are joined to form a review text\n",
    "    #appending processed review into corpus \n",
    "    corpus.append(review)\n",
    "\n",
    "\n"
   ]
  },
  {
   "cell_type": "code",
   "execution_count": 59,
   "id": "2c8f0de4",
   "metadata": {
    "tags": []
   },
   "outputs": [
    {
     "data": {
      "text/plain": [
       "array([[0, 0, 0, ..., 0, 0, 0],\n",
       "       [0, 0, 0, ..., 0, 0, 0],\n",
       "       [0, 0, 0, ..., 0, 0, 0],\n",
       "       ...,\n",
       "       [0, 0, 0, ..., 0, 0, 0],\n",
       "       [0, 0, 0, ..., 0, 0, 0],\n",
       "       [0, 0, 0, ..., 0, 0, 0]])"
      ]
     },
     "execution_count": 59,
     "metadata": {},
     "output_type": "execute_result"
    }
   ],
   "source": [
    "# Creating bag of words to convert strings to vector\n",
    "\n",
    "cv = CountVectorizer(max_features = 1500)\n",
    "X = cv.fit_transform(corpus).toarray()\n",
    "\n",
    "# Splitting dataset into training and testing set\n",
    "X_train, X_test, y_train, y_test = train_test_split(X, y, test_size = 0.20, random_state = 0)\n",
    "\n",
    "\n",
    "\n",
    "# Creating instances of classifiers\n",
    "lg_classifier = LogisticRegression(random_state=0)\n",
    "knn_classifier = KNeighborsClassifier(n_neighbors=5, metric='minkowski', p=2)\n",
    "svm_linear_classifier = SVC(kernel='linear', random_state=0)\n",
    "svm_nonlinear_classifier = SVC(kernel='rbf', random_state=0)\n",
    "nb_classifier = GaussianNB()\n",
    "dt_classifier = DecisionTreeClassifier(criterion='entropy', random_state=0)\n",
    "rf_classifier = RandomForestClassifier(n_estimators=10, criterion='entropy', random_state=0)\n",
    "\n",
    "# Fitting classifiers to training data\n",
    "lg_classifier.fit(X_train, y_train)\n",
    "knn_classifier.fit(X_train, y_train)\n",
    "svm_linear_classifier.fit(X_train, y_train)\n",
    "svm_nonlinear_classifier.fit(X_train, y_train)\n",
    "nb_classifier.fit(X_train, y_train)\n",
    "dt_classifier.fit(X_train, y_train)\n",
    "rf_classifier.fit(X_train, y_train)\n",
    "\n",
    "# Making predictions on testing data\n",
    "lg_y_pred = lg_classifier.predict(X_test)\n",
    "knn_y_pred = knn_classifier.predict(X_test)\n",
    "svm_linear_y_pred = svm_linear_classifier.predict(X_test)\n",
    "svm_nonlinear_y_pred = svm_nonlinear_classifier.predict(X_test)\n",
    "nb_y_pred = nb_classifier.predict(X_test)\n",
    "dt_y_pred = dt_classifier.predict(X_test)\n",
    "rf_y_pred = rf_classifier.predict(X_test)\n",
    "\n",
    "lg_accuracy = accuracy_score(y_test, lg_y_pred)\n",
    "knn_accuracy = accuracy_score(y_test, knn_y_pred)\n",
    "svm_linear_accuracy = accuracy_score(y_test, svm_linear_y_pred)\n",
    "svm_nonlinear_accuracy = accuracy_score(y_test, svm_nonlinear_y_pred)\n",
    "nb_accuracy = accuracy_score(y_test, nb_y_pred)\n",
    "dt_accuracy = accuracy_score(y_test, dt_y_pred)\n",
    "rf_accuracy = accuracy_score(y_test, rf_y_pred)\n",
    "X"
   ]
  },
  {
   "cell_type": "code",
   "execution_count": 60,
   "id": "6a8e191a",
   "metadata": {
    "tags": []
   },
   "outputs": [
    {
     "name": "stdout",
     "output_type": "stream",
     "text": [
      "                     Classifier  Accuracy\n",
      "Classifier                               \n",
      "LG          Logistic Regression     0.710\n",
      "KNN                        k-NN     0.585\n",
      "SVM-L              SVM (Linear)     0.720\n",
      "SVM-NL         SVM (Non-Linear)     0.735\n",
      "NB                  Naive Bayes     0.730\n",
      "DT                Decision Tree     0.710\n",
      "RF                Random Forest     0.720\n"
     ]
    }
   ],
   "source": [
    "# Displaying performance metrics in table\n",
    "classifiers = ['Logistic Regression', 'k-NN', 'SVM (Linear)', 'SVM (Non-Linear)', 'Naive Bayes', 'Decision Tree', 'Random Forest']\n",
    "data = {'Classifier': classifiers, \n",
    "        'Accuracy': [lg_accuracy, knn_accuracy, svm_linear_accuracy, svm_nonlinear_accuracy, nb_accuracy, dt_accuracy, rf_accuracy]}\n",
    "df = pd.DataFrame(data, index=classifiers)\n",
    "df.index.name = 'Classifier'\n",
    "df = df.rename(index={'Logistic Regression': 'LG', 'k-NN': 'KNN', 'SVM (Linear)': 'SVM-L', 'SVM (Non-Linear)': 'SVM-NL', 'Naive Bayes': 'NB', 'Decision Tree': 'DT', 'Random Forest': 'RF'})\n",
    "print(df)"
   ]
  },
  {
   "cell_type": "code",
   "execution_count": 61,
   "id": "9521cb3c-f990-470d-84e3-7abf7af2de42",
   "metadata": {
    "tags": []
   },
   "outputs": [],
   "source": [
    "#TFID vectorizer\n",
    "vectorizer = TfidfVectorizer()\n",
    "X_tfid = vectorizer.fit_transform(corpus).toarray()\n",
    "\n",
    "\n",
    "# Splitting dataset into training and testing set\n",
    "X_train, X_test, y_train, y_test = train_test_split(X_tfid, y, test_size = 0.20, random_state = 0)\n",
    "\n",
    "\n",
    "\n",
    "# Creating instances of classifiers\n",
    "lg_classifier = LogisticRegression(random_state=0)\n",
    "knn_classifier = KNeighborsClassifier(n_neighbors=5, metric='minkowski', p=2)\n",
    "svm_linear_classifier = SVC(kernel='linear', random_state=0)\n",
    "svm_nonlinear_classifier = SVC(kernel='rbf', random_state=0)\n",
    "nb_classifier = GaussianNB()\n",
    "dt_classifier = DecisionTreeClassifier(criterion='entropy', random_state=0)\n",
    "rf_classifier = RandomForestClassifier(n_estimators=10, criterion='entropy', random_state=0)\n",
    "\n",
    "# Fitting classifiers to training data\n",
    "lg_classifier.fit(X_train, y_train)\n",
    "knn_classifier.fit(X_train, y_train)\n",
    "svm_linear_classifier.fit(X_train, y_train)\n",
    "svm_nonlinear_classifier.fit(X_train, y_train)\n",
    "nb_classifier.fit(X_train, y_train)\n",
    "dt_classifier.fit(X_train, y_train)\n",
    "rf_classifier.fit(X_train, y_train)\n",
    "\n",
    "# Making predictions on test data\n",
    "lg_y_pred = lg_classifier.predict(X_test)\n",
    "knn_y_pred = knn_classifier.predict(X_test)\n",
    "svm_linear_y_pred = svm_linear_classifier.predict(X_test)\n",
    "svm_nonlinear_y_pred = svm_nonlinear_classifier.predict(X_test)\n",
    "nb_y_pred = nb_classifier.predict(X_test)\n",
    "dt_y_pred = dt_classifier.predict(X_test)\n",
    "rf_y_pred = rf_classifier.predict(X_test)\n",
    "\n",
    "lg_accuracy = accuracy_score(y_test, lg_y_pred)\n",
    "knn_accuracy = accuracy_score(y_test, knn_y_pred)\n",
    "svm_linear_accuracy = accuracy_score(y_test, svm_linear_y_pred)\n",
    "svm_nonlinear_accuracy = accuracy_score(y_test, svm_nonlinear_y_pred)\n",
    "nb_accuracy = accuracy_score(y_test, nb_y_pred)\n",
    "dt_accuracy = accuracy_score(y_test, dt_y_pred)\n",
    "rf_accuracy1 = accuracy_score(y_test, rf_y_pred)\n"
   ]
  },
  {
   "cell_type": "code",
   "execution_count": 62,
   "id": "a37442e7-d7e1-4d8e-a791-f71cd98c89f5",
   "metadata": {
    "tags": []
   },
   "outputs": [
    {
     "name": "stdout",
     "output_type": "stream",
     "text": [
      "                     Classifier  Accuracy\n",
      "Classifier                               \n",
      "LG          Logistic Regression     0.755\n",
      "KNN                        k-NN     0.680\n",
      "SVM-L              SVM (Linear)     0.730\n",
      "SVM-NL         SVM (Non-Linear)     0.755\n",
      "NB                  Naive Bayes     0.720\n",
      "DT                Decision Tree     0.695\n",
      "RF                Random Forest     0.730\n"
     ]
    }
   ],
   "source": [
    "# Displaying performance metrics in table\n",
    "classifiers = ['Logistic Regression', 'k-NN', 'SVM (Linear)', 'SVM (Non-Linear)', 'Naive Bayes', 'Decision Tree', 'Random Forest']\n",
    "data = {'Classifier': classifiers, \n",
    "        'Accuracy': [lg_accuracy, knn_accuracy, svm_linear_accuracy, svm_nonlinear_accuracy, nb_accuracy, dt_accuracy, rf_accuracy1]}\n",
    "df = pd.DataFrame(data, index=classifiers)\n",
    "df.index.name = 'Classifier'\n",
    "df = df.rename(index={'Logistic Regression': 'LG', 'k-NN': 'KNN', 'SVM (Linear)': 'SVM-L', 'SVM (Non-Linear)': 'SVM-NL', 'Naive Bayes': 'NB', 'Decision Tree': 'DT', 'Random Forest': 'RF'})\n",
    "print(df)"
   ]
  }
 ],
 "metadata": {
  "kernelspec": {
   "display_name": "Python 3 (ipykernel)",
   "language": "python",
   "name": "python3"
  },
  "language_info": {
   "codemirror_mode": {
    "name": "ipython",
    "version": 3
   },
   "file_extension": ".py",
   "mimetype": "text/x-python",
   "name": "python",
   "nbconvert_exporter": "python",
   "pygments_lexer": "ipython3",
   "version": "3.9.5"
  }
 },
 "nbformat": 4,
 "nbformat_minor": 5
}
