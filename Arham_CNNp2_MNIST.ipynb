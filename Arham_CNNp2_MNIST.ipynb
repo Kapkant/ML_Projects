{
  "cells": [
    {
      "cell_type": "code",
      "execution_count": null,
      "metadata": {
        "id": "gmgeDa1YfL2I"
      },
      "outputs": [],
      "source": [
        "#CNN assignment part 2 MNIST\n",
        "#By Arham Khan for CS200 ML\n",
        "\n",
        "from keras.models import Sequential\n",
        "from keras.layers import Conv2D\n",
        "from keras.layers import MaxPooling2D\n",
        "from keras.layers import Flatten\n",
        "from keras.layers import Dense\n",
        "from keras.layers import Dropout\n",
        "import numpy as np\n",
        "import tensorflow as tf"
      ]
    },
    {
      "cell_type": "code",
      "execution_count": null,
      "metadata": {
        "id": "2avru-0UHPvo"
      },
      "outputs": [],
      "source": [
        "mnist = tf.keras.datasets.mnist\n",
        "(x_train, y_train), (x_test,y_test)=mnist.load_data()"
      ]
    },
    {
      "cell_type": "code",
      "execution_count": null,
      "metadata": {
        "id": "T-rBCvhVJCek"
      },
      "outputs": [],
      "source": [
        "x_train = x_train.reshape(x_train.shape[0],28,28,1)\n",
        "x_test = x_test.reshape(x_test.shape[0],28,28,1)\n",
        "input_shape = (28,28,1)"
      ]
    },
    {
      "cell_type": "code",
      "execution_count": null,
      "metadata": {
        "id": "6FfSbi-_H0X6"
      },
      "outputs": [],
      "source": [
        "x_train=x_train.astype(\"float32\")\n",
        "x_test=x_test.astype(\"float32\")"
      ]
    },
    {
      "cell_type": "code",
      "execution_count": null,
      "metadata": {
        "id": "lPFS5RwkHzMl"
      },
      "outputs": [],
      "source": [
        "x_train/=255\n",
        "x_test/=255"
      ]
    },
    {
      "cell_type": "code",
      "execution_count": null,
      "metadata": {
        "id": "eCCqyVoMIgTD"
      },
      "outputs": [],
      "source": [
        "classifier = Sequential()"
      ]
    },
    {
      "cell_type": "code",
      "execution_count": null,
      "metadata": {
        "id": "cbpMpADaIqbM"
      },
      "outputs": [],
      "source": [
        "classifier.add(Conv2D(filters=32, kernel_size=3, activation= \"relu\", input_shape = input_shape))"
      ]
    },
    {
      "cell_type": "code",
      "execution_count": null,
      "metadata": {
        "id": "LKzNQc3pJvVb"
      },
      "outputs": [],
      "source": [
        "classifier.add(MaxPooling2D(pool_size=2,strides=2))"
      ]
    },
    {
      "cell_type": "code",
      "execution_count": null,
      "metadata": {
        "id": "kpGBxHMVJ8SZ"
      },
      "outputs": [],
      "source": [
        "classifier.add(Flatten())"
      ]
    },
    {
      "cell_type": "code",
      "execution_count": null,
      "metadata": {
        "id": "CA9XyO7bKAc9"
      },
      "outputs": [],
      "source": [
        "classifier.add(Dense(units=200, activation=\"relu\"))"
      ]
    },
    {
      "cell_type": "code",
      "execution_count": null,
      "metadata": {
        "id": "Ti1iDOX-KKd9"
      },
      "outputs": [],
      "source": [
        "classifier.add(Dropout(0.5))"
      ]
    },
    {
      "cell_type": "code",
      "execution_count": null,
      "metadata": {
        "id": "vRwbuNQKKSR2"
      },
      "outputs": [],
      "source": [
        "classifier.add(Dense(units=10, activation=\"softmax\"))"
      ]
    },
    {
      "cell_type": "code",
      "execution_count": null,
      "metadata": {
        "id": "b2z9kjqBKalO"
      },
      "outputs": [],
      "source": [
        "classifier.compile(optimizer=\"adam\", loss= \"sparse_categorical_crossentropy\", metrics=[\"accuracy\"])"
      ]
    },
    {
      "cell_type": "code",
      "execution_count": null,
      "metadata": {
        "colab": {
          "base_uri": "https://localhost:8080/"
        },
        "id": "BvTM0FCMKsvP",
        "outputId": "2495d6fa-66fa-4b6c-9a7e-a3479f983957"
      },
      "outputs": [
        {
          "name": "stdout",
          "output_type": "stream",
          "text": [
            "Epoch 1/10\n",
            "1875/1875 [==============================] - 50s 26ms/step - loss: 0.0172 - accuracy: 0.9942\n",
            "Epoch 2/10\n",
            "1875/1875 [==============================] - 48s 26ms/step - loss: 0.0158 - accuracy: 0.9945\n",
            "Epoch 3/10\n",
            "1875/1875 [==============================] - 49s 26ms/step - loss: 0.0147 - accuracy: 0.9948\n",
            "Epoch 4/10\n",
            "1875/1875 [==============================] - 49s 26ms/step - loss: 0.0129 - accuracy: 0.9960\n",
            "Epoch 5/10\n",
            "1875/1875 [==============================] - 49s 26ms/step - loss: 0.0113 - accuracy: 0.9962\n",
            "Epoch 6/10\n",
            "1875/1875 [==============================] - 48s 25ms/step - loss: 0.0127 - accuracy: 0.9957\n",
            "Epoch 7/10\n",
            "1875/1875 [==============================] - 49s 26ms/step - loss: 0.0117 - accuracy: 0.9959\n",
            "Epoch 8/10\n",
            "1875/1875 [==============================] - 49s 26ms/step - loss: 0.0106 - accuracy: 0.9965\n",
            "Epoch 9/10\n",
            "1875/1875 [==============================] - 49s 26ms/step - loss: 0.0103 - accuracy: 0.9965\n",
            "Epoch 10/10\n",
            "1875/1875 [==============================] - 48s 26ms/step - loss: 0.0089 - accuracy: 0.9970\n",
            "313/313 [==============================] - 2s 7ms/step - loss: 0.0628 - accuracy: 0.9883\n"
          ]
        },
        {
          "data": {
            "text/plain": [
              "[0.06283442676067352, 0.9883000254631042]"
            ]
          },
          "execution_count": 55,
          "metadata": {},
          "output_type": "execute_result"
        }
      ],
      "source": [
        "classifier.fit(x=x_train, y= y_train, epochs = 10)\n",
        "classifier.evaluate(x=x_test, y = y_test)"
      ]
    },
    {
      "cell_type": "code",
      "execution_count": null,
      "metadata": {
        "colab": {
          "base_uri": "https://localhost:8080/"
        },
        "id": "1KxFtJ-zLkF6",
        "outputId": "f1d40b1e-e8dd-454e-fdb0-1bc897a55d44"
      },
      "outputs": [
        {
          "name": "stdout",
          "output_type": "stream",
          "text": [
            "1/1 [==============================] - 0s 22ms/step\n",
            "The given image is of  0\n"
          ]
        }
      ],
      "source": [
        "from keras.preprocessing import image\n",
        "from keras.utils import dataset_utils\n",
        "from keras.utils import image_utils\n",
        "unseen_image= image_utils.load_img(\"/content/sample_data/zero.png\", color_mode=\"grayscale\", target_size = (28,28,1))\n",
        "unseen_image= image_utils.img_to_array(unseen_image)\n",
        "#unseen_image= img_to_array(unseen_image)\n",
        "unseen_image = unseen_image.reshape(1,28,28,1)\n",
        "unseen_image=unseen_image.astype(\"float32\")\n",
        "unseen_image= unseen_image/255.0\n",
        "result= classifier.predict(unseen_image)\n",
        "print(\"The given image is of \", np.argmax(result))"
      ]
    },
    {
      "cell_type": "code",
      "execution_count": null,
      "metadata": {
        "id": "1zl46iYhOCiL"
      },
      "outputs": [],
      "source": []
    }
  ],
  "metadata": {
    "colab": {
      "provenance": []
    },
    "kernelspec": {
      "display_name": "Python 3",
      "name": "python3"
    },
    "language_info": {
      "name": "python"
    }
  },
  "nbformat": 4,
  "nbformat_minor": 0
}
